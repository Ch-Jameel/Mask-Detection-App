{
 "cells": [
  {
   "cell_type": "code",
   "execution_count": 1,
   "metadata": {},
   "outputs": [],
   "source": [
    "import os\n",
    "from Custom_func import initialize_directory_structure, split_and_prepare_Yolo_data,generate_yaml_config"
   ]
  },
  {
   "cell_type": "code",
   "execution_count": 2,
   "metadata": {},
   "outputs": [],
   "source": [
    "# Example usage\n",
    "if __name__ == \"__main__\":\n",
    "    classes =['Masked', 'Unmasked', 'Improperly_Masked']\n",
    "    base_dir = os.getcwd()  # Base path for saving the dataset\n",
    "\n",
    "    # Initialize the dataset folder structure\n",
    "    initialize_directory_structure(base_dir)\n",
    "\n",
    "    # List of image files\n",
    "    img_folder = r'Dataset\\images'\n",
    "    annot_folder = r'Dataset\\annotations'\n",
    "    image_files = [file for file in os.listdir(img_folder) if file.endswith(('.jpg', '.jpeg', '.png'))]\n",
    "\n",
    "    # Process the dataset\n",
    "    split_and_prepare_Yolo_data(image_files, img_folder, annot_folder, base_dir, classes)\n",
    "\n",
    "    # Generate the YAML configuration file\n",
    "    generate_yaml_config(base_dir, classes)"
   ]
  }
 ],
 "metadata": {
  "kernelspec": {
   "display_name": "Python 3",
   "language": "python",
   "name": "python3"
  },
  "language_info": {
   "codemirror_mode": {
    "name": "ipython",
    "version": 3
   },
   "file_extension": ".py",
   "mimetype": "text/x-python",
   "name": "python",
   "nbconvert_exporter": "python",
   "pygments_lexer": "ipython3",
   "version": "3.10.0"
  }
 },
 "nbformat": 4,
 "nbformat_minor": 2
}
